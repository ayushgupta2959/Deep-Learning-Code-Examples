{
 "cells": [
  {
   "cell_type": "code",
   "execution_count": null,
   "metadata": {},
   "outputs": [],
   "source": [
    "import matplotlib.pyplot as plt\n",
    "import json\n",
    "from collections import defaultdict\n",
    "def my_plot(h):  \n",
    "    acc = h['acc']\n",
    "    val_acc = h['val_acc']\n",
    "    loss = h['loss']\n",
    "    val_loss = h['val_loss']\n",
    "    epochs = range(1,len(acc)+1)\n",
    "\n",
    "    plt.plot(epochs,acc,'r',label='Training acc')\n",
    "    plt.plot(epochs,val_acc,'b',label='Validation acc')\n",
    "    plt.title('Training and validation accuracy')\n",
    "    plt.legend()\n",
    "\n",
    "    plt.figure()\n",
    "    plt.plot(epochs,loss,'r',label='Training loss')\n",
    "    plt.plot(epochs,val_loss,'b',label='Validation loss')\n",
    "    plt.title('Training and validation loss')\n",
    "    plt.legend()\n",
    "    \n",
    "    plt.show()\n",
    "def my_store(model,history):\n",
    "    history_dict = history\n",
    "    json.dump(history_dict,open('my_hist','w'))\n",
    "    model.save('my_model.h5py')\n",
    "def my_load():\n",
    "    return json.load(open('my_hist','r')),models.load_model('my_model.h5py')\n",
    "def merge_history(h1,h2):\n",
    "    for key in h1.keys():\n",
    "        h1[key]=h1[key] + h2[key]\n",
    "    return h1\n",
    "def init_history():\n",
    "    return defaultdict(list)"
   ]
  },
  {
   "cell_type": "code",
   "execution_count": null,
   "metadata": {},
   "outputs": [],
   "source": [
    "#usage example\n",
    "history=model.fit_generator(\n",
    "                train_generator,\n",
    "                steps_per_epoch=100,\n",
    "                epochs=5,\n",
    "                validation_data=validation_generator,\n",
    "                validation_steps=50)\n",
    "my_plot(history.history)\n",
    "my_store(model,history)\n",
    "history1 = init_history()\n",
    "history1,model1=my_load()\n",
    "hist1=model1.fit_generator(\n",
    "                train_generator,\n",
    "                steps_per_epoch=100,\n",
    "                epochs=5,\n",
    "                validation_data=validation_generator,\n",
    "                validation_steps=50)\n",
    "history1 = merge_history(history1,hist1.history)\n",
    "my_plot(history1)\n",
    "my_store(model1,history1)"
   ]
  }
 ],
 "metadata": {
  "kernelspec": {
   "display_name": "Python 3",
   "language": "python",
   "name": "python3"
  },
  "language_info": {
   "codemirror_mode": {
    "name": "ipython",
    "version": 3
   },
   "file_extension": ".py",
   "mimetype": "text/x-python",
   "name": "python",
   "nbconvert_exporter": "python",
   "pygments_lexer": "ipython3",
   "version": "3.6.5"
  }
 },
 "nbformat": 4,
 "nbformat_minor": 2
}
